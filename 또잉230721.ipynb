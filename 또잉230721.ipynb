{
  "nbformat": 4,
  "nbformat_minor": 0,
  "metadata": {
    "colab": {
      "provenance": [],
      "authorship_tag": "ABX9TyPKwet7Chzap2rLsOZ+K+Ei",
      "include_colab_link": true
    },
    "kernelspec": {
      "name": "python3",
      "display_name": "Python 3"
    },
    "language_info": {
      "name": "python"
    }
  },
  "cells": [
    {
      "cell_type": "markdown",
      "metadata": {
        "id": "view-in-github",
        "colab_type": "text"
      },
      "source": [
        "<a href=\"https://colab.research.google.com/github/profitdldbs/profit/blob/main/%EB%98%90%EC%9E%89230721.ipynb\" target=\"_parent\"><img src=\"https://colab.research.google.com/assets/colab-badge.svg\" alt=\"Open In Colab\"/></a>"
      ]
    },
    {
      "cell_type": "code",
      "execution_count": 18,
      "metadata": {
        "colab": {
          "base_uri": "https://localhost:8080/"
        },
        "id": "L6L8oWHgvGNH",
        "outputId": "f43a5775-abfd-4185-f4f3-6b522a69f84b"
      },
      "outputs": [
        {
          "output_type": "stream",
          "name": "stdout",
          "text": [
            "홍지수 잘생겼다 콘서트 가고싶다\n"
          ]
        }
      ],
      "source": [
        "print(\"홍지수 잘생겼다 콘서트 가고싶다\")"
      ]
    },
    {
      "cell_type": "code",
      "source": [
        "a=input(\"안녕은 영어로? \")"
      ],
      "metadata": {
        "colab": {
          "base_uri": "https://localhost:8080/"
        },
        "id": "8MLUJ07_7lNw",
        "outputId": "21c0708e-487b-416d-c581-3400c05322f0"
      },
      "execution_count": 3,
      "outputs": [
        {
          "name": "stdout",
          "output_type": "stream",
          "text": [
            "안녕은 영어로? Hi\n"
          ]
        }
      ]
    },
    {
      "cell_type": "code",
      "source": [
        "a=int(input(\"자네 생일이 언제지? 숫자로 나타내봐. \"))\n",
        "\n",
        "if(a==220):\n",
        "  print(\"220? 284와 우애수이군. 아주 특별한 수이지.\")\n",
        "elif(a==1210):\n",
        "  print(\"1210? 1184와 우애수이군. 두 번째 우애수로 아주 특별한 수이지.\")\n",
        "else:\n",
        "  print(\"그렇군...아름다운 수야.\")"
      ],
      "metadata": {
        "colab": {
          "base_uri": "https://localhost:8080/"
        },
        "id": "J-eaaj8j7yx3",
        "outputId": "3945eb4d-8e88-49c0-df6b-0b91633fb0b8"
      },
      "execution_count": 14,
      "outputs": [
        {
          "output_type": "stream",
          "name": "stdout",
          "text": [
            "자네 생일이 언제지? 숫자로 나타내봐. 1210\n",
            "1210? 1184와 우애수이군. 두 번째 우애수로 아주 특별한 수이지.\n"
          ]
        }
      ]
    },
    {
      "cell_type": "code",
      "source": [
        "a=int(input(\"정수를 입력하세요: \"))\n",
        "b=int(input(\"어나더 정수 입력: \"))\n",
        "\n",
        "print(a+b)"
      ],
      "metadata": {
        "colab": {
          "base_uri": "https://localhost:8080/"
        },
        "id": "HcQcAu7x9s2w",
        "outputId": "4325a47e-acf6-4c5b-8bfc-cb10b00b80ff"
      },
      "execution_count": 17,
      "outputs": [
        {
          "output_type": "stream",
          "name": "stdout",
          "text": [
            "정수를 입력하세요: 314159265365897\n",
            "어나더 정수 입력: 932384626433\n",
            "315091649992330\n"
          ]
        }
      ]
    },
    {
      "cell_type": "code",
      "source": [
        "# =: 대입, ==: 같다, !=: 같지 않다\n",
        "# > < >= <=\n",
        "# +: 더하기, -: 빼기, *: 곱하기, /: 나누기, **: 제곱 %: 나머지"
      ],
      "metadata": {
        "id": "77f67u3k_VlZ"
      },
      "execution_count": null,
      "outputs": []
    },
    {
      "cell_type": "code",
      "source": [
        "a=input(\"지금 날씨가 어때? \")\n",
        "\n",
        "if a==\"비\":\n",
        "  print(\"우산 들고 나가\")\n",
        "elif(a==\"태풍\"):\n",
        "  print(\"집에 있어\")\n",
        "else:\n",
        "  print(\"걍 나가\")"
      ],
      "metadata": {
        "colab": {
          "base_uri": "https://localhost:8080/"
        },
        "id": "MKkwNvqA_W8v",
        "outputId": "2785fef4-a1b6-483a-f01a-2210b0d7df73"
      },
      "execution_count": 21,
      "outputs": [
        {
          "output_type": "stream",
          "name": "stdout",
          "text": [
            "지금 날씨가 어때? 맑아\n",
            "걍 나가\n"
          ]
        }
      ]
    },
    {
      "cell_type": "code",
      "source": [
        "cheer=input(\"힛을 입력하세요: \")\n",
        "\n",
        "if cheer==\"힛\":\n",
        "  print(\"승철 정한 지수 준휘 순영 원우 지훈 명호 민규 석민 승관 한솔 찬!! 세븐틴세븐틴세븐틴세븐틴 호우! 세븐틴세븐틴세븐틴세븐틴 호!\")"
      ],
      "metadata": {
        "colab": {
          "base_uri": "https://localhost:8080/"
        },
        "id": "eOSuNB00ECqu",
        "outputId": "f450186d-970c-4ae1-a17f-5f6824914a7d"
      },
      "execution_count": 38,
      "outputs": [
        {
          "output_type": "stream",
          "name": "stdout",
          "text": [
            "힛을 입력하세요: 힛\n",
            "승철 정한 지수 준휘 순영 원우 지훈 명호 민규 석민 승관 한솔 찬!! 세븐틴세븐틴세븐틴세븐틴 호우! 세븐틴세븐틴세븐틴세븐틴 호!\n"
          ]
        }
      ]
    },
    {
      "cell_type": "code",
      "source": [
        "# 계산기\n",
        "\n",
        "a=int(input(\"값을 입력하라: \"))\n",
        "b=int(input(\"값을 입력하라: \"))\n",
        "계산=input(\"수행하고싶은 계산 입력(*,/,+,-,**): \")\n",
        "\n",
        "if (계산==\"*\"):\n",
        "  print(a*b)\n",
        "elif (계산==\"/\"):\n",
        "  print(a/b)\n",
        "elif 계산==\"+\":\n",
        "  print(a+b)\n",
        "elif 계산==\"-\":\n",
        "  print(a-b)\n",
        "else:\n",
        "  print(\"저는 멍청해요 사칙연산만 하게 해주세요..\")"
      ],
      "metadata": {
        "colab": {
          "base_uri": "https://localhost:8080/"
        },
        "id": "fvN53Cr8BgmV",
        "outputId": "4db29ca8-55d0-41e0-9ce4-e10cd690f40d"
      },
      "execution_count": 40,
      "outputs": [
        {
          "output_type": "stream",
          "name": "stdout",
          "text": [
            "값을 입력하라: 3\n",
            "값을 입력하라: 5\n",
            "수행하고싶은 계산 입력(*,/,+,-,**): **\n",
            "저는 멍청해요 사칙연산만 하게 해주세요..\n"
          ]
        }
      ]
    },
    {
      "cell_type": "code",
      "source": [
        "sex=input(\"성별을 입력하세요: \")\n",
        "time=int(input(\"들어온 시간을 입력하세요: \"))\n",
        "\n",
        "if sex==\"여자\":\n",
        "  if time<=12:\n",
        "    print(\"A\")\n",
        "  else:\n",
        "    print(\"B\")\n",
        "if sex==\"남자\":\n",
        "  if time<=10:\n",
        "    print(\"A\")\n",
        "  else:\n",
        "    print(\"B\")"
      ],
      "metadata": {
        "colab": {
          "base_uri": "https://localhost:8080/"
        },
        "id": "SuGnihZtEbA4",
        "outputId": "159f5ec4-cfbf-4918-c736-b49b77859133"
      },
      "execution_count": 46,
      "outputs": [
        {
          "output_type": "stream",
          "name": "stdout",
          "text": [
            "성별을 입력하세요: 여자\n",
            "들어온 시간을 입력하세요: 15\n",
            "B\n"
          ]
        }
      ]
    },
    {
      "cell_type": "code",
      "source": [
        "kg = float(input(\"몸무게(kg): \"))\n",
        "h = float(input(\"키(m): \"))\n",
        "bmi = kg/(h*h)\n",
        "print(\"당신의 bmi는\", bmi, \"입니다.\")\n",
        "\n",
        "if bmi>=25.00:\n",
        "  if bmi>=45:\n",
        "    print('걸어오실 때 땅이 꺼지는 느낌이 드셨지 않나요?')\n",
        "  else:\n",
        "    print('조금만 노력하시면 정상이 되실 수 있으세요!')\n",
        "elif 18.5<=bmi<=23:\n",
        "  print('지극히 정상이세요 축하드립니다')\n",
        "elif 23<bmi<25.00:\n",
        "  print('과체중이시네요 조금만 노력하시면 정상이 될 수 있어여~')\n",
        "elif bmi<18.5:\n",
        "  if bmi<=5:\n",
        "    print('곧 돌아가실 것 같아요')\n",
        "  else:\n",
        "    print('노력하시면 정상이 되실 수 있어요!')"
      ],
      "metadata": {
        "colab": {
          "base_uri": "https://localhost:8080/"
        },
        "id": "ZSrvrFuiLnXK",
        "outputId": "510c2020-fc35-4e83-9b4d-fcaccfce229d"
      },
      "execution_count": 70,
      "outputs": [
        {
          "output_type": "stream",
          "name": "stdout",
          "text": [
            "몸무게(kg): 82\n",
            "키(m): 1.872\n",
            "당신의 bmi는 23.39926218131346 입니다.\n",
            "과체중이시네요 조금만 노력하시면 정상이 될 수 있어여~\n"
          ]
        }
      ]
    },
    {
      "cell_type": "code",
      "source": [
        "for i in range(1):\n",
        "  print(\"조슈아\"+str(i))"
      ],
      "metadata": {
        "colab": {
          "base_uri": "https://localhost:8080/"
        },
        "id": "TuqLY5gGppNK",
        "outputId": "b294f8d0-181e-4690-d0bf-cf002c7410e2"
      },
      "execution_count": 3,
      "outputs": [
        {
          "output_type": "stream",
          "name": "stdout",
          "text": [
            "조슈아0\n"
          ]
        }
      ]
    },
    {
      "cell_type": "code",
      "source": [
        "x = int(input(\"값을 입력하5: \"))\n",
        "\n",
        "for i in range(x):\n",
        "  print(i+1)"
      ],
      "metadata": {
        "colab": {
          "base_uri": "https://localhost:8080/"
        },
        "id": "6HGBtqV8rRCH",
        "outputId": "6f7a6bc5-add7-4f67-9c3a-6bf41e08a8d1"
      },
      "execution_count": 12,
      "outputs": [
        {
          "output_type": "stream",
          "name": "stdout",
          "text": [
            "값을 입력하5: 5\n",
            "1\n",
            "2\n",
            "3\n",
            "4\n",
            "5\n"
          ]
        }
      ]
    },
    {
      "cell_type": "code",
      "source": [
        "# * 찍기\n",
        "\n",
        "# N(1 ≤ N ≤ 100)\n",
        "N = int(input(\"정수를 입력하세요: \"))\n",
        "\n",
        "for i in range(N):\n",
        "  print(\"*\"*(i+1))"
      ],
      "metadata": {
        "colab": {
          "base_uri": "https://localhost:8080/"
        },
        "id": "aYOlTiVJvNi9",
        "outputId": "879f923d-0f10-46ba-85e9-c3db68b8c59d"
      },
      "execution_count": 50,
      "outputs": [
        {
          "output_type": "stream",
          "name": "stdout",
          "text": [
            "정수를 입력하세요: 4\n",
            "*\n",
            "**\n",
            "***\n",
            "****\n"
          ]
        }
      ]
    },
    {
      "cell_type": "code",
      "source": [
        "for i in range(1):\n",
        "  for j in range(5):\n",
        "    print((j+1) * \"*\")"
      ],
      "metadata": {
        "colab": {
          "base_uri": "https://localhost:8080/"
        },
        "id": "i-Qe5Ns2wopH",
        "outputId": "5cd3a71c-7935-42af-ba26-a2589f6524c2"
      },
      "execution_count": 18,
      "outputs": [
        {
          "output_type": "stream",
          "name": "stdout",
          "text": [
            "*\n",
            "**\n",
            "***\n",
            "****\n",
            "*****\n"
          ]
        }
      ]
    },
    {
      "cell_type": "code",
      "source": [
        "x = float(input(\"정수를 입력해 주세요: \"))\n",
        "\n",
        "for i in range(9):\n",
        "  print(str(x) + \" * \"+str(i+1)+\" = \"+str(x*(i+1)))"
      ],
      "metadata": {
        "colab": {
          "base_uri": "https://localhost:8080/"
        },
        "id": "meV-t0Diyr_F",
        "outputId": "1b6abb2a-6286-460f-97b0-dbb2e7cbd2c1"
      },
      "execution_count": 48,
      "outputs": [
        {
          "output_type": "stream",
          "name": "stdout",
          "text": [
            "정수를 입력해 주세요: 5\n",
            "5.0 * 1 = 5.0\n",
            "5.0 * 2 = 10.0\n",
            "5.0 * 3 = 15.0\n",
            "5.0 * 4 = 20.0\n",
            "5.0 * 5 = 25.0\n",
            "5.0 * 6 = 30.0\n",
            "5.0 * 7 = 35.0\n",
            "5.0 * 8 = 40.0\n",
            "5.0 * 9 = 45.0\n"
          ]
        }
      ]
    },
    {
      "cell_type": "code",
      "source": [
        "for i in range(9):\n",
        "  for a in range(9):\n",
        "    print(str(i+1) + \" * \"+str(a+1)+\" = \"+str((a+1)*(i+1)))\n",
        "  print(\"--------------\")"
      ],
      "metadata": {
        "colab": {
          "base_uri": "https://localhost:8080/"
        },
        "id": "MarpXHgO26K1",
        "outputId": "071d1856-5d43-47c7-c88d-bf49418e7e24"
      },
      "execution_count": 47,
      "outputs": [
        {
          "output_type": "stream",
          "name": "stdout",
          "text": [
            "1 * 1 = 1\n",
            "1 * 2 = 2\n",
            "1 * 3 = 3\n",
            "1 * 4 = 4\n",
            "1 * 5 = 5\n",
            "1 * 6 = 6\n",
            "1 * 7 = 7\n",
            "1 * 8 = 8\n",
            "1 * 9 = 9\n",
            "--------------\n",
            "2 * 1 = 2\n",
            "2 * 2 = 4\n",
            "2 * 3 = 6\n",
            "2 * 4 = 8\n",
            "2 * 5 = 10\n",
            "2 * 6 = 12\n",
            "2 * 7 = 14\n",
            "2 * 8 = 16\n",
            "2 * 9 = 18\n",
            "--------------\n",
            "3 * 1 = 3\n",
            "3 * 2 = 6\n",
            "3 * 3 = 9\n",
            "3 * 4 = 12\n",
            "3 * 5 = 15\n",
            "3 * 6 = 18\n",
            "3 * 7 = 21\n",
            "3 * 8 = 24\n",
            "3 * 9 = 27\n",
            "--------------\n",
            "4 * 1 = 4\n",
            "4 * 2 = 8\n",
            "4 * 3 = 12\n",
            "4 * 4 = 16\n",
            "4 * 5 = 20\n",
            "4 * 6 = 24\n",
            "4 * 7 = 28\n",
            "4 * 8 = 32\n",
            "4 * 9 = 36\n",
            "--------------\n",
            "5 * 1 = 5\n",
            "5 * 2 = 10\n",
            "5 * 3 = 15\n",
            "5 * 4 = 20\n",
            "5 * 5 = 25\n",
            "5 * 6 = 30\n",
            "5 * 7 = 35\n",
            "5 * 8 = 40\n",
            "5 * 9 = 45\n",
            "--------------\n",
            "6 * 1 = 6\n",
            "6 * 2 = 12\n",
            "6 * 3 = 18\n",
            "6 * 4 = 24\n",
            "6 * 5 = 30\n",
            "6 * 6 = 36\n",
            "6 * 7 = 42\n",
            "6 * 8 = 48\n",
            "6 * 9 = 54\n",
            "--------------\n",
            "7 * 1 = 7\n",
            "7 * 2 = 14\n",
            "7 * 3 = 21\n",
            "7 * 4 = 28\n",
            "7 * 5 = 35\n",
            "7 * 6 = 42\n",
            "7 * 7 = 49\n",
            "7 * 8 = 56\n",
            "7 * 9 = 63\n",
            "--------------\n",
            "8 * 1 = 8\n",
            "8 * 2 = 16\n",
            "8 * 3 = 24\n",
            "8 * 4 = 32\n",
            "8 * 5 = 40\n",
            "8 * 6 = 48\n",
            "8 * 7 = 56\n",
            "8 * 8 = 64\n",
            "8 * 9 = 72\n",
            "--------------\n",
            "9 * 1 = 9\n",
            "9 * 2 = 18\n",
            "9 * 3 = 27\n",
            "9 * 4 = 36\n",
            "9 * 5 = 45\n",
            "9 * 6 = 54\n",
            "9 * 7 = 63\n",
            "9 * 8 = 72\n",
            "9 * 9 = 81\n",
            "--------------\n"
          ]
        }
      ]
    },
    {
      "cell_type": "code",
      "source": [
        "i = 0\n",
        "while(a>5):\n",
        "  print(\"a가 5보다 커여\")\n",
        "  if i == 3:\n",
        "    break\n",
        "  i = i + 1"
      ],
      "metadata": {
        "colab": {
          "base_uri": "https://localhost:8080/"
        },
        "id": "Nr9V4-Sb5JWh",
        "outputId": "96ae1c8b-8f4c-4cbd-c08e-65fcc3687e0f"
      },
      "execution_count": 53,
      "outputs": [
        {
          "output_type": "stream",
          "name": "stdout",
          "text": [
            "a가 5보다 커여\n",
            "a가 5보다 커여\n",
            "a가 5보다 커여\n",
            "a가 5보다 커여\n"
          ]
        }
      ]
    },
    {
      "cell_type": "code",
      "source": [
        "while(True):\n",
        "  계산=input(\"수행하고싶은 계산 입력(+,-,*,/)/종료: \")\n",
        "  if (계산==\"종료\"):\n",
        "    print(\"종료되었습니다.\")\n",
        "    break\n",
        "\n",
        "  a=int(input(\"값을 입력하라: \"))\n",
        "  b=int(input(\"값을 입력하라: \"))\n",
        "\n",
        "  if (계산==\"*\"):\n",
        "    print(a*b)\n",
        "  elif (계산==\"/\"):\n",
        "    print(a/b)\n",
        "  elif 계산==\"+\":\n",
        "    print(a+b)\n",
        "  elif 계산==\"-\":\n",
        "    print(a-b)\n",
        "  else:\n",
        "    print(\"저는 멍청해요 사칙연산만 하게 해주세요..\")\n",
        "  print(\"-------------------------\")"
      ],
      "metadata": {
        "colab": {
          "base_uri": "https://localhost:8080/"
        },
        "id": "PDZqBUbt8mFm",
        "outputId": "ce21f784-4ee0-466c-f4a6-037a7e2ac6b4"
      },
      "execution_count": 71,
      "outputs": [
        {
          "output_type": "stream",
          "name": "stdout",
          "text": [
            "수행하고싶은 계산 입력(+,-,*,/)/종료: *\n",
            "값을 입력하라: 4\n",
            "값을 입력하라: 6\n",
            "24\n",
            "-------------------------\n",
            "수행하고싶은 계산 입력(+,-,*,/)/종료: 종료\n",
            "종료되었습니다.\n"
          ]
        }
      ]
    }
  ]
}
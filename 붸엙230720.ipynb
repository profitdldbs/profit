{
  "nbformat": 4,
  "nbformat_minor": 0,
  "metadata": {
    "colab": {
      "provenance": [],
      "toc_visible": true,
      "authorship_tag": "ABX9TyMwH1WNAUOxhaKUUnqZLB4p",
      "include_colab_link": true
    },
    "kernelspec": {
      "name": "python3",
      "display_name": "Python 3"
    },
    "language_info": {
      "name": "python"
    }
  },
  "cells": [
    {
      "cell_type": "markdown",
      "metadata": {
        "id": "view-in-github",
        "colab_type": "text"
      },
      "source": [
        "<a href=\"https://colab.research.google.com/github/profitdldbs/profit/blob/main/%EB%B6%B8%EC%97%99230720.ipynb\" target=\"_parent\"><img src=\"https://colab.research.google.com/assets/colab-badge.svg\" alt=\"Open In Colab\"/></a>"
      ]
    },
    {
      "cell_type": "code",
      "source": [
        "print(\"배고프다\")"
      ],
      "metadata": {
        "colab": {
          "base_uri": "https://localhost:8080/"
        },
        "id": "vcSAozClAE0b",
        "outputId": "44022b6b-e3ee-4a5b-b16b-53814cbee253"
      },
      "execution_count": 5,
      "outputs": [
        {
          "output_type": "stream",
          "name": "stdout",
          "text": [
            "배고프다\n"
          ]
        }
      ]
    },
    {
      "cell_type": "code",
      "source": [
        "print(\"3515 이윤\")"
      ],
      "metadata": {
        "colab": {
          "base_uri": "https://localhost:8080/"
        },
        "id": "veQ215JjAg_W",
        "outputId": "635413c8-bf95-4097-9b72-272f40c8692d"
      },
      "execution_count": 6,
      "outputs": [
        {
          "output_type": "stream",
          "name": "stdout",
          "text": [
            "3515 이윤\n"
          ]
        }
      ]
    },
    {
      "cell_type": "code",
      "source": [
        "print(20081014)"
      ],
      "metadata": {
        "colab": {
          "base_uri": "https://localhost:8080/"
        },
        "id": "gWzslVG5Auyx",
        "outputId": "d53a9786-a17b-4223-94bd-74425b6e8662"
      },
      "execution_count": 8,
      "outputs": [
        {
          "output_type": "stream",
          "name": "stdout",
          "text": [
            "20081014\n"
          ]
        }
      ]
    },
    {
      "cell_type": "code",
      "source": [
        "print(\"Joshua Jisooo Hong\")"
      ],
      "metadata": {
        "colab": {
          "base_uri": "https://localhost:8080/"
        },
        "id": "K-LetKLBA8tu",
        "outputId": "74d6c32f-f3ac-4d0f-b0a1-81dd69c89ad8"
      },
      "execution_count": 9,
      "outputs": [
        {
          "output_type": "stream",
          "name": "stdout",
          "text": [
            "Joshua Jisooo Hong\n"
          ]
        }
      ]
    },
    {
      "cell_type": "code",
      "source": [
        "print(\"홍지수\"+\"이윤\")"
      ],
      "metadata": {
        "colab": {
          "base_uri": "https://localhost:8080/"
        },
        "id": "hEtv76fVBOl_",
        "outputId": "6aa51329-ce17-4d03-a402-4d6d638830a7"
      },
      "execution_count": 13,
      "outputs": [
        {
          "output_type": "stream",
          "name": "stdout",
          "text": [
            "홍지수이윤\n"
          ]
        }
      ]
    },
    {
      "cell_type": "code",
      "source": [
        "print(100 * \"이윤\")"
      ],
      "metadata": {
        "colab": {
          "base_uri": "https://localhost:8080/"
        },
        "id": "K5gy5ug-Bij8",
        "outputId": "c736459e-6f2f-409b-fe46-a2b585dbf263"
      },
      "execution_count": 12,
      "outputs": [
        {
          "output_type": "stream",
          "name": "stdout",
          "text": [
            "이윤이윤이윤이윤이윤이윤이윤이윤이윤이윤이윤이윤이윤이윤이윤이윤이윤이윤이윤이윤이윤이윤이윤이윤이윤이윤이윤이윤이윤이윤이윤이윤이윤이윤이윤이윤이윤이윤이윤이윤이윤이윤이윤이윤이윤이윤이윤이윤이윤이윤이윤이윤이윤이윤이윤이윤이윤이윤이윤이윤이윤이윤이윤이윤이윤이윤이윤이윤이윤이윤이윤이윤이윤이윤이윤이윤이윤이윤이윤이윤이윤이윤이윤이윤이윤이윤이윤이윤이윤이윤이윤이윤이윤이윤이윤이윤이윤이윤이윤이윤\n"
          ]
        }
      ]
    },
    {
      "cell_type": "code",
      "source": [
        "name=\"이윤\"\n",
        "print(name)"
      ],
      "metadata": {
        "colab": {
          "base_uri": "https://localhost:8080/"
        },
        "id": "ldgbZTuECCKn",
        "outputId": "582324d2-59ff-453d-f6af-00cc2aa29560"
      },
      "execution_count": 14,
      "outputs": [
        {
          "output_type": "stream",
          "name": "stdout",
          "text": [
            "이윤\n"
          ]
        }
      ]
    },
    {
      "cell_type": "code",
      "source": [
        "x=2983477\n",
        "y=2984385\n",
        "print(x*y)\n"
      ],
      "metadata": {
        "colab": {
          "base_uri": "https://localhost:8080/"
        },
        "id": "rr2mwSosCvgV",
        "outputId": "6f94b3e0-36f8-4091-b620-b9a49349b716"
      },
      "execution_count": 17,
      "outputs": [
        {
          "output_type": "stream",
          "name": "stdout",
          "text": [
            "8903844006645\n"
          ]
        }
      ]
    },
    {
      "cell_type": "code",
      "source": [
        "#변수 a에 상수 10 넣기\n",
        "\n",
        "a=10\n",
        "print(a)"
      ],
      "metadata": {
        "colab": {
          "base_uri": "https://localhost:8080/"
        },
        "id": "_ktbzAWRD7-Q",
        "outputId": "36a04098-7d2b-4cba-bd65-3b4d3470d23c"
      },
      "execution_count": 18,
      "outputs": [
        {
          "output_type": "stream",
          "name": "stdout",
          "text": [
            "10\n"
          ]
        }
      ]
    },
    {
      "cell_type": "code",
      "source": [
        "#변수 a에 상수 10-5 넣기\n",
        "\n",
        "a=10-5\n",
        "print(a)"
      ],
      "metadata": {
        "colab": {
          "base_uri": "https://localhost:8080/"
        },
        "id": "5KzYnrL7EKkv",
        "outputId": "8840c7d5-c479-4e48-9ee4-a4dc1b5246ff"
      },
      "execution_count": 19,
      "outputs": [
        {
          "output_type": "stream",
          "name": "stdout",
          "text": [
            "5\n"
          ]
        }
      ]
    },
    {
      "cell_type": "code",
      "source": [
        "#변수 a에 변수 b+변수 c 넣기\n",
        "\n",
        "b=19\n",
        "c=38\n",
        "a=b+c\n",
        "print(a)"
      ],
      "metadata": {
        "colab": {
          "base_uri": "https://localhost:8080/"
        },
        "id": "o3ARlDYjES3M",
        "outputId": "81995168-547e-43ba-c265-5fc1cff4a021"
      },
      "execution_count": 20,
      "outputs": [
        {
          "output_type": "stream",
          "name": "stdout",
          "text": [
            "57\n"
          ]
        }
      ]
    },
    {
      "cell_type": "code",
      "source": [
        "#소수 넣기\n",
        "\n",
        "b=99.9\n",
        "c=87.4\n",
        "print(b+c)"
      ],
      "metadata": {
        "colab": {
          "base_uri": "https://localhost:8080/"
        },
        "id": "N0Zq_JoJEzUr",
        "outputId": "8c925c02-9b1d-4189-945a-8ed94fc1d5bc"
      },
      "execution_count": 22,
      "outputs": [
        {
          "output_type": "stream",
          "name": "stdout",
          "text": [
            "187.3\n"
          ]
        }
      ]
    },
    {
      "cell_type": "code",
      "source": [
        "#이름 넣기\n",
        "\n",
        "a=3\n",
        "b=\"홍지수\"\n",
        "print(a*b)\n",
        "print(b+\"안녕\")"
      ],
      "metadata": {
        "colab": {
          "base_uri": "https://localhost:8080/"
        },
        "id": "_i-yI5SQFOnj",
        "outputId": "92fb29bf-b885-4fad-c7c0-b694c170dfa2"
      },
      "execution_count": 25,
      "outputs": [
        {
          "output_type": "stream",
          "name": "stdout",
          "text": [
            "홍지수홍지수홍지수\n",
            "홍지수안녕\n"
          ]
        }
      ]
    },
    {
      "cell_type": "code",
      "source": [
        "b=True\n",
        "print(b)"
      ],
      "metadata": {
        "colab": {
          "base_uri": "https://localhost:8080/"
        },
        "id": "qG-z2SEQFjHU",
        "outputId": "011f782a-8108-4e8e-b9cd-f06fbc7d1653"
      },
      "execution_count": 27,
      "outputs": [
        {
          "output_type": "stream",
          "name": "stdout",
          "text": [
            "True\n"
          ]
        }
      ]
    },
    {
      "cell_type": "code",
      "source": [
        "a=3\n",
        "b=4\n",
        "print(a==b)"
      ],
      "metadata": {
        "colab": {
          "base_uri": "https://localhost:8080/"
        },
        "id": "8L-tqmtuFxdz",
        "outputId": "97e54e9f-70f8-454b-ed99-e9f10c432025"
      },
      "execution_count": 29,
      "outputs": [
        {
          "output_type": "stream",
          "name": "stdout",
          "text": [
            "False\n"
          ]
        }
      ]
    },
    {
      "cell_type": "code",
      "source": [
        "a=20\n",
        "print(a)"
      ],
      "metadata": {
        "colab": {
          "base_uri": "https://localhost:8080/"
        },
        "id": "lZnOxP_-F7mK",
        "outputId": "b0fc73cc-131d-40c0-c15c-90fd6d54a7a1"
      },
      "execution_count": 38,
      "outputs": [
        {
          "output_type": "stream",
          "name": "stdout",
          "text": [
            "20\n"
          ]
        }
      ]
    },
    {
      "cell_type": "code",
      "source": [
        "city=\"seoul\"\n",
        "print(city)\n",
        "print(a*city)"
      ],
      "metadata": {
        "colab": {
          "base_uri": "https://localhost:8080/"
        },
        "id": "3J9dV6BaF6Ky",
        "outputId": "c79a6845-b2ce-44fe-8b9a-8d7f895d1235"
      },
      "execution_count": 39,
      "outputs": [
        {
          "output_type": "stream",
          "name": "stdout",
          "text": [
            "seoul\n",
            "seoulseoulseoulseoulseoulseoulseoulseoulseoulseoulseoulseoulseoulseoulseoulseoulseoulseoulseoulseoul\n"
          ]
        }
      ]
    },
    {
      "cell_type": "code",
      "source": [
        "A=input(\"키미노..나마에와..!: \")\n",
        "\n",
        "#문자: str, 정수: int"
      ],
      "metadata": {
        "colab": {
          "base_uri": "https://localhost:8080/"
        },
        "id": "bdd-VZdRpMS1",
        "outputId": "00103237-17de-4d36-ef03-8b699aa20201"
      },
      "execution_count": 12,
      "outputs": [
        {
          "name": "stdout",
          "output_type": "stream",
          "text": [
            "키미노..나마에와..!: 44\n"
          ]
        }
      ]
    },
    {
      "cell_type": "code",
      "source": [
        "print(type(int(A)))"
      ],
      "metadata": {
        "colab": {
          "base_uri": "https://localhost:8080/"
        },
        "id": "ERFAbMwVqkZA",
        "outputId": "94b51c82-4c79-4345-927e-7e8813d1351f"
      },
      "execution_count": 17,
      "outputs": [
        {
          "output_type": "stream",
          "name": "stdout",
          "text": [
            "<class 'int'>\n"
          ]
        }
      ]
    },
    {
      "cell_type": "code",
      "source": [
        "# 변수 B에 정수 40 입력받기\n",
        "\n",
        "B=int(input(\"40을 입력하지 않으면 키보드, 즉 23만원이 터질 것이다!!! \"))\n",
        "print(B)"
      ],
      "metadata": {
        "colab": {
          "base_uri": "https://localhost:8080/"
        },
        "id": "8PQXgHcOrz0Q",
        "outputId": "5fbce4cd-31b9-4b26-b706-ab3bc88055b3"
      },
      "execution_count": 23,
      "outputs": [
        {
          "output_type": "stream",
          "name": "stdout",
          "text": [
            "40을 입력하지 않으면 키보드, 즉 23만원이 터질 것이다!!! 40\n",
            "40\n"
          ]
        }
      ]
    },
    {
      "cell_type": "code",
      "source": [
        "x=int(input(\"정수 입력 어디 함 해봐 해봐~~아앙?: \"))\n",
        "y=int(input(\"정수 또 입력 해봐 해봐 응?~~: \"))\n",
        "print(x+y, (\"! 참으로 아름답지 않은가?\"))"
      ],
      "metadata": {
        "colab": {
          "base_uri": "https://localhost:8080/"
        },
        "id": "VpA4_aEVuRKU",
        "outputId": "1aba15f2-8b2e-4d44-e538-7403de8139d0"
      },
      "execution_count": 33,
      "outputs": [
        {
          "output_type": "stream",
          "name": "stdout",
          "text": [
            "정수 입력 어디 함 해봐 해봐~~아앙?: 324\n",
            "정수 또 입력 해봐 해봐 응?~~: 642\n",
            "966 ! 참으로 아름답지 않은가?\n"
          ]
        }
      ]
    },
    {
      "cell_type": "code",
      "source": [
        "# =: 대입, ==: 같다, !=: 같지 않다\n",
        "# > < >= <=\n",
        "# +: 더하기, -: 빼기, *: 곱하기, /: 나누기, **: 제곱"
      ],
      "metadata": {
        "id": "8Q7VR82pwl7v"
      },
      "execution_count": null,
      "outputs": []
    },
    {
      "cell_type": "code",
      "source": [
        "name=input(\"이름: \")\n",
        "print(\"아\",name,\"읽씹;;\")"
      ],
      "metadata": {
        "colab": {
          "base_uri": "https://localhost:8080/"
        },
        "id": "IVreh_5dxSs3",
        "outputId": "25e33a0c-072f-4a88-fdc8-e2025bbb8e11"
      },
      "execution_count": 34,
      "outputs": [
        {
          "output_type": "stream",
          "name": "stdout",
          "text": [
            "이름: 서예안\n",
            "아 서예안 읽씹;;\n"
          ]
        }
      ]
    },
    {
      "cell_type": "code",
      "source": [
        "x=int(input(\"정수 넣어바: \"))\n",
        "y=int(input(\"정수 또 넣어바: \"))\n",
        "\n",
        "if(x==y):\n",
        "  print(\"같음\")\n",
        "elif (x>y):\n",
        "  print(\"x가 짱임\")\n",
        "else:\n",
        "  print(\"y가 짱임\")"
      ],
      "metadata": {
        "colab": {
          "base_uri": "https://localhost:8080/"
        },
        "id": "rcrSNr-RyEj5",
        "outputId": "3d4e0b88-80b1-47ac-c93c-663698ba3eca"
      },
      "execution_count": 35,
      "outputs": [
        {
          "output_type": "stream",
          "name": "stdout",
          "text": [
            "정수 넣어바: 5\n",
            "정수 또 넣어바: 3\n",
            "x가 짱임\n"
          ]
        }
      ]
    },
    {
      "cell_type": "code",
      "source": [
        "# A 90-100\n",
        "# B 80-89\n",
        "# C 70-79\n",
        "# D 60-69\n",
        "# E 60 미만\n",
        "\n",
        "x=int(input(\"윤아 몇 점 맞았니? \"))\n",
        "\n",
        "if (90<=x==100):\n",
        "  print(\"어머 A네~~잘했어\")\n",
        "elif (80<=x<90):\n",
        "  print(\"B? 수고했어\")\n",
        "elif (70<=x<0):\n",
        "  print(\"c? 에휴\")\n",
        "elif (60<=x<70):\n",
        "  print(\"D................학원가자\")\n",
        "else:\n",
        "  (\"괜찮아 공부 하지 말고 다른 거 하자.........\")"
      ],
      "metadata": {
        "colab": {
          "base_uri": "https://localhost:8080/"
        },
        "id": "AFqvSWkuy178",
        "outputId": "76bcbf74-ade5-4a1b-a505-3fb5f559b481"
      },
      "execution_count": 50,
      "outputs": [
        {
          "output_type": "stream",
          "name": "stdout",
          "text": [
            "윤아 몇 점 맞았니? 100\n",
            "어머 A네~~잘했어\n"
          ]
        }
      ]
    }
  ]
}